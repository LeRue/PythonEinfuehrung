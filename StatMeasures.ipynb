{
 "cells": [
  {
   "cell_type": "markdown",
   "id": "6b45b938-72e2-4ac2-a75e-315f5913780c",
   "metadata": {},
   "source": [
    "# Calculation of the Statistical Measures"
   ]
  },
  {
   "cell_type": "markdown",
   "id": "49cafbfa-3018-4680-9cd7-8f7f73787a7e",
   "metadata": {},
   "source": [
    "The goal of this task is to write a program that reads the values for a probability distribution and tells the corresponding statistical measures. "
   ]
  },
  {
   "cell_type": "markdown",
   "id": "f751291f-20bc-458f-8431-0910ae5594d8",
   "metadata": {},
   "source": [
    "### In a first step we need to import the libraries we will need later."
   ]
  },
  {
   "cell_type": "code",
   "execution_count": 22,
   "id": "4e812e61-7628-4c17-9694-ed9c281afbae",
   "metadata": {},
   "outputs": [],
   "source": [
    "import math # Provides mathematical functions\n",
    "import numpy as np # Provides calculating power for lists and matrices\n",
    "import matplotlib.pyplot as plt # Lets you produces nice graphical output\n",
    "import scipy.special # Provides binomial factors etc.\n",
    "from matplotlib import style # Helps styling the graphs\n",
    "from scipy.stats import binom # Calculates the binomial factors\n",
    "from tabulate import tabulate # Allows to produce human readeable tables\n",
    "from time import strftime # Converts a timestamp into a textstring"
   ]
  },
  {
   "cell_type": "markdown",
   "id": "c72b6eae-01b8-4eea-9af1-c0e5cbdb83c4",
   "metadata": {},
   "source": [
    "## In a next step you will learn how to read data entered by the user\n",
    "The input-command allows you to enter data. When handing the values over to a variable, the values will be stored. Now you can reuse the values. Here is an example:"
   ]
  },
  {
   "cell_type": "code",
   "execution_count": 7,
   "id": "9cdc0c27-72c8-43f0-8649-54f7f68c5434",
   "metadata": {},
   "outputs": [
    {
     "name": "stdin",
     "output_type": "stream",
     "text": [
      "What's your name?:  Michael\n"
     ]
    }
   ],
   "source": [
    "name = str(input(\"What's your name?: \"))"
   ]
  },
  {
   "cell_type": "markdown",
   "id": "c74d32f1-e4f2-4bba-a87d-42ab6f0545e5",
   "metadata": {},
   "source": [
    "The variable is called `name`, `str` tells that the input given is a string, i.e. a sequence of characters, and `input` contains the question you want to ask.\n",
    "\n",
    "Now you can use the content of the variable `name` by printing it using the `print` command. Different strings can be joined using the `+` symbol. A fixed string is enclosed by `\" \"`"
   ]
  },
  {
   "cell_type": "code",
   "execution_count": 8,
   "id": "10728d48-8059-4353-9a6e-09b78d1e5028",
   "metadata": {},
   "outputs": [
    {
     "name": "stdout",
     "output_type": "stream",
     "text": [
      "Hello Michael, nice to meet you!\n"
     ]
    }
   ],
   "source": [
    "print(\"Hello \" + name + \", nice to meet you!\")"
   ]
  },
  {
   "cell_type": "markdown",
   "id": "8479af0a-f993-42da-a246-caf636213c41",
   "metadata": {},
   "source": [
    "#### Task 1\n",
    "Ask the user to give the first name and store it in a variable called `fname`, then the last name in a variable called `name`. Write a greeting formula containing the firstname and name."
   ]
  },
  {
   "cell_type": "code",
   "execution_count": null,
   "id": "df2dc341-2e73-4afe-9aaa-15f41506a778",
   "metadata": {},
   "outputs": [],
   "source": []
  },
  {
   "cell_type": "markdown",
   "id": "713ac31b-2a9f-4bb8-abc7-39ef0f1dc3ac",
   "metadata": {},
   "source": [
    "#### Task 2\n",
    "Ask the user for at least three different personal things and write a short text about him/her."
   ]
  },
  {
   "cell_type": "code",
   "execution_count": null,
   "id": "6892d6db-b29d-402e-9850-e50563ff2bf8",
   "metadata": {},
   "outputs": [],
   "source": []
  },
  {
   "cell_type": "markdown",
   "id": "606e1e0f-896f-4bbc-a964-c388c01c2932",
   "metadata": {},
   "source": [
    "Input of a user can not only be a string, but an integer number `int`, a floating point or decimal number `float`, etc. There are many different data types, but the three given here are the most important ones!"
   ]
  },
  {
   "cell_type": "markdown",
   "id": "2e76eb68-4981-4f43-98d6-a90b430d001e",
   "metadata": {},
   "source": [
    "## The concept of the for-loop\n",
    "Very often things in a computer program have to be repeated over and over again. (Example: Your computer has to check every moment if you hit a key on the keyboard). This is why the loops are very important. \n",
    "\n",
    "Example: Write a list with all the integer numbers 1 - 10 and the corresponding square numbbers:"
   ]
  },
  {
   "cell_type": "code",
   "execution_count": 15,
   "id": "c19458cd-a963-40e5-8d69-61fe8e499d96",
   "metadata": {},
   "outputs": [
    {
     "name": "stdout",
     "output_type": "stream",
     "text": [
      "1 1\n",
      "2 4\n",
      "3 9\n",
      "4 16\n",
      "5 25\n",
      "6 36\n",
      "7 49\n",
      "8 64\n",
      "9 81\n",
      "10 100\n"
     ]
    }
   ],
   "source": [
    "for i in range(1,11):\n",
    "    print(str(i)+\" \"+str(i**2))"
   ]
  },
  {
   "cell_type": "markdown",
   "id": "4573336c-5acc-4919-af48-c5b751b5dddd",
   "metadata": {},
   "source": [
    "#### Task 3\n",
    "Write a for-loop that gives all the cubic numbers for $n \\in [1,10]$ as number pairs, i.e. $(1,1), (2,8), \\ldots, (10, 1000)$"
   ]
  },
  {
   "cell_type": "code",
   "execution_count": null,
   "id": "5fb59509-239d-40c1-b350-f36c7a20f329",
   "metadata": {},
   "outputs": [],
   "source": []
  },
  {
   "cell_type": "markdown",
   "id": "72fb023a-da39-432d-ab79-ad45dbc0edac",
   "metadata": {},
   "source": [
    "#### Task 4\n",
    "If you want to create nicer output as lists, e.g. you can use the tabulate function: It needs different parameters. The most important one is a lsit containing everything you want to plot. The empty list is created as `cubics_list=[]`, the `cubics_list.append)`lets you append a new row. Here you have an example:"
   ]
  },
  {
   "cell_type": "code",
   "execution_count": 20,
   "id": "5560460f-954f-4e8a-8f53-c08d1e65abb3",
   "metadata": {},
   "outputs": [],
   "source": [
    "cubics_list=[]\n",
    "for i in range(1,11):\n",
    "    cubics_list.append([i, i**3])"
   ]
  },
  {
   "cell_type": "markdown",
   "id": "3f32f414-dc56-47e0-a319-99348c3e1521",
   "metadata": {},
   "source": [
    "Now you have to give the column headers and the style:"
   ]
  },
  {
   "cell_type": "code",
   "execution_count": 25,
   "id": "0381afbf-355d-415f-951a-3cc1efcadff0",
   "metadata": {},
   "outputs": [
    {
     "name": "stdout",
     "output_type": "stream",
     "text": [
      "╒═════╤══════╕\n",
      "│ n   │ n³   │\n",
      "╞═════╪══════╡\n",
      "│ 1   │ 1    │\n",
      "├─────┼──────┤\n",
      "│ 2   │ 8    │\n",
      "├─────┼──────┤\n",
      "│ 3   │ 27   │\n",
      "├─────┼──────┤\n",
      "│ 4   │ 64   │\n",
      "├─────┼──────┤\n",
      "│ 5   │ 125  │\n",
      "├─────┼──────┤\n",
      "│ 6   │ 216  │\n",
      "├─────┼──────┤\n",
      "│ 7   │ 343  │\n",
      "├─────┼──────┤\n",
      "│ 8   │ 512  │\n",
      "├─────┼──────┤\n",
      "│ 9   │ 729  │\n",
      "├─────┼──────┤\n",
      "│ 10  │ 1000 │\n",
      "╘═════╧══════╛\n"
     ]
    }
   ],
   "source": [
    "# Define the headers for the table\n",
    "headers = [\"n\", \"n\\u00b3\"]\n",
    "# Defining the parts of the table that is shown\n",
    "cubics_table = tabulate(cubics_list, headers, tablefmt=\"fancy_grid\", numalign=\"left\")\n",
    "# output\n",
    "print(cubics_table)"
   ]
  },
  {
   "cell_type": "markdown",
   "id": "619bb547-9ece-42f2-b972-2139dccee6cc",
   "metadata": {},
   "source": [
    "#### Task 5\n",
    "Give a table with all the sine, cosine and tangent values for the angles $0\\leq \\alpha \\leq 90^\\circ$. Hint: The trigonometric functions can be found in the `math` library: `print(round(math.sin(math.radians(20)),3))` give the sine of 20 degrees rounded to three significant figures."
   ]
  },
  {
   "cell_type": "code",
   "execution_count": null,
   "id": "8950e158-ed9a-414a-a2e2-a78a5d48076a",
   "metadata": {},
   "outputs": [],
   "source": []
  },
  {
   "cell_type": "code",
   "execution_count": null,
   "id": "56b261a7-4124-4a2d-9b32-a7b09ae22431",
   "metadata": {},
   "outputs": [],
   "source": []
  }
 ],
 "metadata": {
  "kernelspec": {
   "display_name": "Python 3",
   "language": "python",
   "name": "python3"
  },
  "language_info": {
   "codemirror_mode": {
    "name": "ipython",
    "version": 3
   },
   "file_extension": ".py",
   "mimetype": "text/x-python",
   "name": "python",
   "nbconvert_exporter": "python",
   "pygments_lexer": "ipython3",
   "version": "3.8.8"
  }
 },
 "nbformat": 4,
 "nbformat_minor": 5
}
