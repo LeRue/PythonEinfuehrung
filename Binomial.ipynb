{
 "cells": [
  {
   "cell_type": "markdown",
   "id": "d0d6fd31",
   "metadata": {
    "slideshow": {
     "slide_type": "slide"
    }
   },
   "source": [
    "## Produce Binomial Distribution Table and Graph"
   ]
  },
  {
   "cell_type": "markdown",
   "id": "3f3779b6",
   "metadata": {
    "slideshow": {
     "slide_type": "fragment"
    }
   },
   "source": [
    "## In a first step we need to import the libraries "
   ]
  },
  {
   "cell_type": "code",
   "execution_count": null,
   "id": "e12e0efa",
   "metadata": {
    "slideshow": {
     "slide_type": "fragment"
    }
   },
   "outputs": [],
   "source": [
    "import math # Provides mathematical functions\n",
    "import numpy as np # Provides calculating power for lists and matrices\n",
    "import matplotlib.pyplot as plt # Lets you produces nice graphical output\n",
    "import scipy.special # Provides binomial factors etc.\n",
    "from matplotlib import style # Helps styling the graphs\n",
    "from scipy.stats import binom # Calculates the binomial factors\n",
    "from tabulate import tabulate # Allows to produce human readeable tables\n",
    "from time import strftime # Converts a timestamp into a textstring"
   ]
  },
  {
   "cell_type": "markdown",
   "id": "9ad3d01a",
   "metadata": {},
   "source": [
    "### Task 1: Perform the following calculations\n",
    "\n",
    "Help can be found at https://docs.python.org/3/library/functions.html for the basic functions and  https://docs.python.org/3/library/math.html as well as for advanced functions\n",
    "\n",
    "1. $4+5=$\n",
    "2. $3\\cdot 7=$\n",
    "3. $\\frac{18}{3}=$\n",
    "4. $7!=$\n",
    "5. $\\binom{10}{5}=$\n",
    "6. $3.5^3=$|\n",
    "7. $\\sin(20^\\circ)=$ (rounded to 3 s.f.) "
   ]
  },
  {
   "cell_type": "code",
   "execution_count": null,
   "id": "fbb84ea5",
   "metadata": {},
   "outputs": [],
   "source": []
  },
  {
   "cell_type": "markdown",
   "id": "674fc8ae",
   "metadata": {},
   "source": [
    "### Solution 1"
   ]
  },
  {
   "cell_type": "code",
   "execution_count": null,
   "id": "9645f9a9",
   "metadata": {},
   "outputs": [],
   "source": [
    "print(4+5)\n",
    "\n",
    "print(3*5)\n",
    "\n",
    "print(int(18/3))\n",
    "\n",
    "print(math.factorial(7))\n",
    "\n",
    "print(scipy.special.comb(10,5,exact=True))\n",
    "\n",
    "print(3.5**3)\n",
    "\n",
    "print(round(math.sin(math.radians(20)),3))"
   ]
  },
  {
   "cell_type": "markdown",
   "id": "d5721293",
   "metadata": {},
   "source": [
    "### Towards a fast production of pdf, cdf-tables and -graphs"
   ]
  },
  {
   "cell_type": "code",
   "execution_count": null,
   "id": "a5c58547",
   "metadata": {},
   "outputs": [],
   "source": [
    "# setting style for graphs\n",
    "style.use('ggplot')\n",
    "plt.rcParams['figure.figsize'] = (20,10)\n",
    "\n",
    "# asking the user for the parameters\n",
    "n= int(input(\"Enter the number of trials (n): \")) # number of trials\n",
    "p= float(input(\"Enter the probability for success (p): \"))  # probablity for success\n",
    "\n",
    "a = []\n",
    "for k in range(0,n+1):\n",
    "    a.append([k, binom.pmf(k,n,p), binom.cdf(k, n, p, loc=0)])\n",
    "\n",
    "headers = [\"k\", \"p(X=k)\", \"p(X≤k)\"]\n",
    "\n",
    "# tabulate data\n",
    "table = tabulate(a, headers, tablefmt=\"fancy_grid\", numalign=\"left\")\n",
    "# output\n",
    "print(table)\n",
    "\n",
    "# Convert table to a string\n",
    "s_tab=str(table)\n",
    "\n",
    "\n",
    "# get a date-time string for the document name\n",
    "s_now=strftime(\"%y%m%d%H%M%S\")\n",
    "\n",
    "\n",
    "# Open file to write\n",
    "f = open(\"binomial_data.txt\", \"w\")\n",
    "f.write(s_tab)\n",
    "f.close()\n",
    "\n",
    "\n",
    "r_values=list(range(n+1))\n",
    "dist=[binom.pmf(r,n,p) for r in r_values] # PDF\n",
    "cdist=[binom.cdf(r,n,p) for r in r_values] # CDF\n",
    "\n",
    "# Plot the graph\n",
    "plt.stem(r_values, cdist, linefmt='C1', markerfmt='C1o') #plot CDF\n",
    "plt.stem(r_values, dist, linefmt='C0',markerfmt='C0o') # plot PDF\n",
    "plt.savefig('pdf_cdf_plot.png') # save file as png\n",
    "plt.show() # show plot in notebook\n",
    "\n"
   ]
  },
  {
   "cell_type": "code",
   "execution_count": null,
   "id": "c2599a9e",
   "metadata": {},
   "outputs": [],
   "source": []
  }
 ],
 "metadata": {
  "kernelspec": {
   "display_name": "Python 3",
   "language": "python",
   "name": "python3"
  },
  "language_info": {
   "codemirror_mode": {
    "name": "ipython",
    "version": 3
   },
   "file_extension": ".py",
   "mimetype": "text/x-python",
   "name": "python",
   "nbconvert_exporter": "python",
   "pygments_lexer": "ipython3",
   "version": "3.8.8"
  }
 },
 "nbformat": 4,
 "nbformat_minor": 5
}
