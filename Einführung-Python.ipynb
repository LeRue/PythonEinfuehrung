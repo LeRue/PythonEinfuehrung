{
 "cells": [
  {
   "cell_type": "markdown",
   "metadata": {},
   "source": [
    "## Produce Binomial Distribution Table and Graph"
   ]
  },
  {
   "cell_type": "markdown",
   "metadata": {},
   "source": [
    "## In a first step we need to import the libraries "
   ]
  },
  {
   "cell_type": "code",
   "execution_count": 3,
   "metadata": {},
   "outputs": [],
   "source": [
    "import matplotlib.pyplot as plt\n",
    "from matplotlib import style\n",
    "from tabulate import tabulate"
   ]
  },
  {
   "cell_type": "code",
   "execution_count": null,
   "metadata": {},
   "outputs": [],
   "source": [
    "# setting style for graphs\n",
    "style.use('ggplot')\n",
    "plt.rcParams['figure.figsize'] = (20,10)\n",
    "\n",
    "# setting the parameters\n",
    "n= int(input(\"Enter the number of trials (n): \")) # number of trials\n",
    "p= float(input(\"Enter the probability for success (p): \"))  # probablity for success\n",
    "\n",
    "a = []\n",
    "for k in range(0,n+1):\n",
    "    a.append([k, binom.pmf(k,n,p), binom.cdf(k, n, p, loc=0)])\n",
    "\n",
    "headers = [\"k\", \"p(X=k)\", \"p(X≤k)\"]\n",
    "\n",
    "# tabulate data\n",
    "table = tabulate(a, headers, tablefmt=\"fancy_grid\", numalign=\"left\")\n",
    "# output\n",
    "print(table)\n",
    "\n",
    "# Convert table to a string\n",
    "s_tab=str(table)\n",
    "\n",
    "\n",
    "# get a date-time string for the document name\n",
    "s_now=strftime(\"%y%m%d%H%M%S\")\n",
    "\n",
    "\n",
    "# Open file to write\n",
    "f = open(\"binomial_data.txt\", \"w\")\n",
    "f.write(s_tab)\n",
    "f.close()\n",
    "\n",
    "\n",
    "r_values=list(range(n+1))\n",
    "dist=[binom.pmf(r,n,p) for r in r_values] # PDF\n",
    "cdist=[binom.cdf(r,n,p) for r in r_values] # CDF\n",
    "\n",
    "# Plot the graph\n",
    "plt.stem(r_values, cdist, linefmt='C1', markerfmt='C1o') #plot CDF\n",
    "plt.stem(r_values, dist, linefmt='C0',markerfmt='C0o') # plot PDF\n",
    "plt.savefig('pdf_cdf_plot.pdf') # save file as pdf\n",
    "plt.show() # show plot in notebook\n",
    "\n"
   ]
  }
 ],
 "metadata": {
  "kernelspec": {
   "display_name": "Python 3",
   "language": "python",
   "name": "python3"
  },
  "language_info": {
   "codemirror_mode": {
    "name": "ipython",
    "version": 3
   },
   "file_extension": ".py",
   "mimetype": "text/x-python",
   "name": "python",
   "nbconvert_exporter": "python",
   "pygments_lexer": "ipython3",
   "version": "3.8.10"
  }
 },
 "nbformat": 4,
 "nbformat_minor": 5
}
