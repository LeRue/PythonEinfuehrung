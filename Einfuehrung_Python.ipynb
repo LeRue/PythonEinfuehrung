{
 "cells": [
  {
   "cell_type": "markdown",
   "metadata": {},
   "source": [
    "# Einführung: Python\n",
    "Du wirst hier (wieder) lernen\n",
    "- wie man mit *Python* Informationen abfragt\n",
    "- wie man mit Variblen in Python arbeitet und etwas auf dem Bildschirm ausgibt\n",
    "- wie man die Steuerungselement `if` und `for` in Python-Programmen verwendet\n",
    "- wie man *Listen* erstellt\n",
    "- wie man Daten mit Diagrammen darstellt\n",
    "\n",
    "Am Ende wirst deine Kenntnisse anwenden, um die Kreiszahl $\\pi$ auf verschiedene, zum Teil sehr moderne Arten, bestimmen."
   ]
  },
  {
   "cell_type": "markdown",
   "metadata": {},
   "source": [
    "## Grundlagen für das Arbeitsblatt\n",
    "Python wird hier im sogenannten *Jupyter Notebook* ausgeführt. Der Vorteil daran ist, dass man kleine «Progrämmchen» bzw. «Code-Schnipsel» ausführen kann und nicht immer gleich an komplettes Python-Programm schreiben muss.\n",
    "Ausserdem kannst du Grafiken, Tabellen usw. direkt im Notizbuch anzeigen. Und zuletzt: Man kann auch Textbausteine (*wie diesen!*) zur Erklärung einfügen, sogar mit Formeln: $\\pi = \\frac ud$.\n",
    "### Wie man Code-Teile ausführt\n",
    "Damit dein Programmiertext ausgeführt wird, musst du in eine Zelle klicken und anschliessend `SHIFT+RETURN` oder `STRG+RETURN` drücken. Bei der ersten Möglichkeit springst du danach automatisch in die nächste Zelle, bei der zweiten Möglichkeit nicht."
   ]
  },
  {
   "cell_type": "markdown",
   "metadata": {},
   "source": [
    "### Aufgabe:\n",
    "<a id='pkg_import'></a>\n",
    "Führe den Code in der folgenden Zelle aus: Es werden nötige Pakte importiert, die wir nachher verwenden werden."
   ]
  },
  {
   "cell_type": "code",
   "execution_count": 8,
   "metadata": {},
   "outputs": [
    {
     "name": "stdout",
     "output_type": "stream",
     "text": [
      "Jetzt hast du alle wichtigen Pakete geladen!\n"
     ]
    }
   ],
   "source": [
    "import numpy as np # Provides calculating power for lists and matrices\n",
    "import matplotlib.pyplot as plt # Lets you produces nice graphical output\n",
    "print(\"Jetzt hast du alle wichtigen Pakete geladen!\")"
   ]
  },
  {
   "cell_type": "markdown",
   "metadata": {},
   "source": [
    "## Daten in Python eingeben\n",
    "Mit dem Input-Befehl kannst du den Benutzer auffordern etwas einzugeben, was du dann in einer Variablen speicherst.\n",
    "Hier ein Beispiel:"
   ]
  },
  {
   "cell_type": "code",
   "execution_count": null,
   "metadata": {},
   "outputs": [],
   "source": [
    "name = input(\"Wie heisst du?: \")"
   ]
  },
  {
   "cell_type": "markdown",
   "metadata": {},
   "source": [
    "1. Die Variable wird `name` genannt \n",
    "2. `input` fordert den Benutzer zu einer Eingabe auf\n",
    "\n",
    "Jetzt kannst du die Variable `name` nutzen: Mit `print` kann man eine Bildschirmausgabe machen. Alle Textstücke (\"Strings\") müssen in Anführungszeichen `\" \"` stehen. Verschiedene Textstücke kann man mit dem `+` verknüpfen."
   ]
  },
  {
   "cell_type": "code",
   "execution_count": null,
   "metadata": {},
   "outputs": [],
   "source": [
    "print(\"Hallo \" + name + \", heute schon gut gefrühstückt?\")"
   ]
  },
  {
   "cell_type": "markdown",
   "metadata": {},
   "source": [
    "### Aufgabe\n",
    "Frag den Benutzer nach seinem Alter und gib anschliessend eine lustige Aussage über ihn aus!"
   ]
  },
  {
   "cell_type": "code",
   "execution_count": null,
   "metadata": {},
   "outputs": [],
   "source": [
    "# Hier kommt dein Code hin (Ausführen mit STRG-RETURN)"
   ]
  },
  {
   "cell_type": "markdown",
   "metadata": {},
   "source": [
    "## `if`-Abfrage\n",
    "Mit `if` kannst du entscheidungen fällen: «Wenn ..., dann ..., sonst ...»\n",
    "\n",
    "Hier ein Beispiel:"
   ]
  },
  {
   "cell_type": "code",
   "execution_count": null,
   "metadata": {},
   "outputs": [],
   "source": [
    "zahl = int(input(\"Gib eine natürliche Zahl ein: \"))\n",
    "if zahl > 100:\n",
    "    print(\"Das ist eine GROSSE Zahl.\")\n",
    "elif zahl == 100:\n",
    "    print(\"Warum hast du genau 100 eingegeben?\")\n",
    "else:\n",
    "    print(\"Eine kleine Zahl.\")"
   ]
  },
  {
   "cell_type": "markdown",
   "metadata": {},
   "source": [
    "Hier benötigst du noch zusätzlich die Funktion `int`. Sie verwandelt das Textstück, dass du eingibst in eine **ganze Zahl**."
   ]
  },
  {
   "cell_type": "markdown",
   "metadata": {},
   "source": [
    "### Beachte!\n",
    "In Python ist es wichtig, **genau auf die «Syntax» zu achten**. Vergisst du z.B. den `:` nach der Abfrage `zahl > 100`, funktioniert das Programm nicht, sondern es gibt eine **Fehlermeldung**!\n",
    "\n",
    "*Probiere es aus!*"
   ]
  },
  {
   "cell_type": "markdown",
   "metadata": {},
   "source": [
    "### Aufgabe\n",
    "Erstelle eine Abfrage nach dem Alter und gib etwas lustiges als Ausgabe aus. Dabei solltest du eine `if`-Abfrage einbauen!"
   ]
  },
  {
   "cell_type": "code",
   "execution_count": null,
   "metadata": {},
   "outputs": [],
   "source": [
    "# Hier kommt dein Code hin (Ausführen mit STRG-RETURN)"
   ]
  },
  {
   "cell_type": "markdown",
   "metadata": {},
   "source": [
    "## Die `for`-Schleife\n",
    "Oft müssen Abläufe in einem Computerprogramm immer und immer wieder wiederholt werden, z.B. muss der Computer in jedem Moment neu Abfragen, ob du gerade eine Taste auf der Tastatur gedrückt hast.\n",
    "\n",
    "Deshalb sind **Schleifen** so wichtig."
   ]
  },
  {
   "cell_type": "markdown",
   "metadata": {},
   "source": [
    "### Beispiel: Eine Reihe von Quadratzahlen\n",
    "*Führe den folgenden Code aus, was passiert?*"
   ]
  },
  {
   "cell_type": "code",
   "execution_count": null,
   "metadata": {},
   "outputs": [],
   "source": [
    "for i in range(1,11):\n",
    "    n = i**2\n",
    "    print(str(i)+\" \"+str(n))"
   ]
  },
  {
   "cell_type": "markdown",
   "metadata": {},
   "source": [
    "### Aufgabe\n",
    "Schreibe eine `for`-Schleife, die alle 2er-Potenzen $2^n$ für $n\\in\\{1,...,12\\}$ ausgibt."
   ]
  },
  {
   "cell_type": "code",
   "execution_count": null,
   "metadata": {},
   "outputs": [],
   "source": [
    "# Hier kommt dein Code hin (Ausführen mit STRG-RETURN)"
   ]
  },
  {
   "cell_type": "markdown",
   "metadata": {},
   "source": [
    "### Listen\n",
    "\n",
    "Oft möchtest du die Zahlen, die du berechnet hast, z.B. die Zweierpotenzen, weiterverwenden. Dazu musst du diese z.B. in einer «Liste» (`list`) speichern.\n",
    "\n",
    "Es gibt zwei Möglichkeiten, eine Liste zu erstellen. \n",
    "\n",
    "1. durch Anhängen einzelner Elemente in einer Schleife\n",
    "2. durch die sogenannte `list comprehension`, eine Spezialität von Python\n",
    "\n",
    "*Führe die nachfolgenden Beispiele aus*.\n"
   ]
  },
  {
   "cell_type": "code",
   "execution_count": 6,
   "metadata": {},
   "outputs": [
    {
     "name": "stdout",
     "output_type": "stream",
     "text": [
      "1. Möglichkeit: \n",
      " ----------------------- \n",
      "\n",
      "2\n",
      "4\n",
      "8\n",
      "16\n",
      "32\n",
      "64\n",
      "128\n",
      "256\n",
      "512\n",
      "1024\n",
      "\n",
      "\n",
      "2. Möglichkeit: \n",
      " ----------------------- \n",
      "\n",
      "3\n",
      "9\n",
      "27\n",
      "81\n",
      "243\n",
      "729\n",
      "2187\n",
      "6561\n",
      "19683\n",
      "59049\n"
     ]
    }
   ],
   "source": [
    "# 1. Möglichkeit\n",
    "potenzen = [] \n",
    "for exponent in range(1,11):\n",
    "    potenzen.append(2**exponent)\n",
    "    \n",
    "# Ausdruck von Möglichkeit 1:\n",
    "print(\"1. Möglichkeit: \\n ----------------------- \\n\")\n",
    "for potenz in potenzen:\n",
    "    print(potenz)\n",
    "\n",
    "print(\"\\n\") #dieser print-Ausdruck erzeugt einfach einen Zeilenumbruch (n = newline)\n",
    "\n",
    "# 2. Möglichkeit    \n",
    "potenzen2 = [3**exponent for exponent in range(1,11)]\n",
    "\n",
    "print(\"2. Möglichkeit: \\n ----------------------- \\n\")\n",
    "for potenz in potenzen2:\n",
    "    print(potenz)"
   ]
  },
  {
   "cell_type": "markdown",
   "metadata": {},
   "source": [
    "### (Vertiefung für Fortgeschrittene) Wertepaare speichern\n",
    "Wenn du auch den Exponenten speichern willst, kannst du wie im folgenden Beispiel vorgehen:"
   ]
  },
  {
   "cell_type": "code",
   "execution_count": null,
   "metadata": {},
   "outputs": [],
   "source": [
    "wertepaare = [(n,2**n) for n in range(1,11)]\n",
    "print(wertepaare)\n",
    "for (n,p) in wertepaare:\n",
    "    print(\"2 hoch \"+str(n)+\" = \"+str(p))"
   ]
  },
  {
   "cell_type": "markdown",
   "metadata": {},
   "source": [
    "## Werte im Koordinatensystem zeichnen\n",
    "Mit der `matplotlib`-Bibliothek kannst du einfach schöne Grafiken erzeugen: z.B. Stabdiagramme oder Diagramme im $xy$-Koordinatensystem.\n",
    "Hilfe zu `matplotlib` findest du unter anderem hier: https://matplotlib.org oder unter https://www.tutorialspoint.com/matplotlib/index.htm, wo du viele Beispiele findest.\n",
    "\n",
    "Wenn wir die Potenzen in einem $xy$-Graphen darstellen wollen, benötigen wir zwei Listen: \n",
    "1. eine Liste für die $x$-Werte\n",
    "2. eine Liste für die $y$-Werte"
   ]
  },
  {
   "cell_type": "code",
   "execution_count": null,
   "metadata": {},
   "outputs": [],
   "source": [
    "xwerte = range(1,11)\n",
    "ywerte = [2**n for n in range(1,11)]"
   ]
  },
  {
   "cell_type": "markdown",
   "metadata": {},
   "source": [
    "Nun sagen wir Python, dass es die Daten zeichnen soll und beschriften die Achsen!\n",
    "\n",
    "Die Befehlt haben jetzt vorne noch das `plt.`, weil wir das Paket `matplotlib.pyplot` verwenden, was wir [ganz am Anfang](#pkg_import) `plt` genannt haben."
   ]
  },
  {
   "cell_type": "code",
   "execution_count": null,
   "metadata": {},
   "outputs": [],
   "source": [
    "plt.plot(xwerte,ywerte,\"x\",color=\"red\")\n",
    "plt.xlabel(\"Exponent\")\n",
    "plt.ylabel(\"Potenz\")\n"
   ]
  },
  {
   "cell_type": "markdown",
   "metadata": {},
   "source": [
    "### Aufgabe:\n",
    "Ändere den Graph etwas ab. (Kreise statt Kreuze, andere Farbe, andere Achsenbeschriftung...)\n",
    "\n",
    "Wenn du noch mehr verändern willst, kannst du [hier](https://matplotlib.org/stable/tutorials/introductory/pyplot.html) stöbern."
   ]
  },
  {
   "cell_type": "markdown",
   "metadata": {},
   "source": [
    "### Aufgabe\n",
    "\n",
    "Erstelle einen Graphen, der die Fläche eines Kreises für verschiedene «Pizzagrössen» darstellt, $0<d<45$cm."
   ]
  },
  {
   "cell_type": "code",
   "execution_count": null,
   "metadata": {},
   "outputs": [],
   "source": []
  },
  {
   "cell_type": "markdown",
   "metadata": {},
   "source": [
    "## Pi mit Zufallszahlen berechnen:\n",
    "Wenn man ein weiteres Paket importiert, kann man mit Zufallszahlen arbeiten: `random`"
   ]
  },
  {
   "cell_type": "code",
   "execution_count": 23,
   "metadata": {},
   "outputs": [],
   "source": [
    "from random import random"
   ]
  },
  {
   "cell_type": "markdown",
   "metadata": {},
   "source": [
    "Nun kann man mit `random` Zufallszahlen erzeugen:"
   ]
  },
  {
   "cell_type": "code",
   "execution_count": 24,
   "metadata": {},
   "outputs": [],
   "source": [
    "# Beispiel 1, führe es aus\n",
    "zufallszahlen = []\n",
    "for i in range(1,10):\n",
    "    zufallszahlen.append(random())"
   ]
  },
  {
   "cell_type": "code",
   "execution_count": 25,
   "metadata": {},
   "outputs": [
    {
     "name": "stdout",
     "output_type": "stream",
     "text": [
      "0 ---> 0.7028474736491356\n",
      "1 ---> 0.3610508029364412\n",
      "2 ---> 0.255998207844921\n",
      "3 ---> 0.3266464708914212\n",
      "4 ---> 0.761206065469922\n",
      "5 ---> 0.21104705965767023\n",
      "6 ---> 0.2718463493560833\n",
      "7 ---> 0.1475093995337251\n",
      "8 ---> 0.3428245262114713\n"
     ]
    }
   ],
   "source": [
    "for nummer, zahl in enumerate(zufallszahlen):\n",
    "    print(nummer,\"--->\", zahl)"
   ]
  },
  {
   "cell_type": "markdown",
   "metadata": {},
   "source": [
    "Was aber, wenn wir Zufallszahlen zwischen -1 und 1 erzeugen wollen? random() erzeugt immer Zahlen zwischen 0 und 1!\n",
    "\n",
    "Dies lässt sich lösen, wenn man sich überlegt, dass eine Zufallszahl, die zwischen 0 und 1 liegt, und die man anschliessend mit 2 multpliziert, nun zwischen 0 und 2 liegt.\n",
    "Wenn man also noch von jeder Zahl 1 abzieht, erhält man eine Zufallszahl zwischen -1 und 1.\n",
    "\n",
    "`zufallszahl zwischen -1 und 1 = random()*2 - 1`\n",
    "\n",
    "damit wir nicht immmer `random()*2-1` schreiben müssen, kann man das auch in eine **Funktion** verpacken:"
   ]
  },
  {
   "cell_type": "code",
   "execution_count": 35,
   "metadata": {},
   "outputs": [],
   "source": [
    "def zufallszahl():\n",
    "    return random()*2-1"
   ]
  },
  {
   "cell_type": "markdown",
   "metadata": {},
   "source": [
    "Jetzt können wir die selbst definierte Funktion `zufallszahl()` verwenden:"
   ]
  },
  {
   "cell_type": "code",
   "execution_count": 36,
   "metadata": {},
   "outputs": [],
   "source": [
    "n = 100\n",
    "xwerte = [zufallszahl() for i in range(n)]\n",
    "ywerte = [zufallszahl() for i in range(n)]\n",
    "# hier erzeugen wir Punkte (x,y) mit Koordinaten zwischen -1 und 1"
   ]
  },
  {
   "cell_type": "code",
   "execution_count": 38,
   "metadata": {},
   "outputs": [
    {
     "data": {
      "text/plain": [
       "[<matplotlib.lines.Line2D at 0x7f54dd1db940>]"
      ]
     },
     "execution_count": 38,
     "metadata": {},
     "output_type": "execute_result"
    },
    {
     "data": {
      "image/png": "[encoded data removed]",
      "text/plain": [
       "<Figure size 432x288 with 1 Axes>"
      ]
     },
     "metadata": {
      "needs_background": "light"
     },
     "output_type": "display_data"
    }
   ],
   "source": [
    "# so sehen die Punke im KOS aus:\n",
    "plt.plot(xwerte, ywerte, \"x\")"
   ]
  },
  {
   "cell_type": "markdown",
   "metadata": {},
   "source": [
    "### Pi berechnen\n",
    "Mit einer einfachen Idee kann man mit zufälligen Punkten (x,y) $\\pi$ berechnen!\n",
    "\n",
    "### Aufgabe\n",
    "Schaue dir das folgende Programm an. Versuche zu verstehen, was passiert"
   ]
  },
  {
   "cell_type": "code",
   "execution_count": 39,
   "metadata": {},
   "outputs": [
    {
     "name": "stdout",
     "output_type": "stream",
     "text": [
      "Anteil innerhalb:  78.774 %\n",
      "pi ist ca. :  3.15096\n"
     ]
    }
   ],
   "source": [
    "n = 100000\n",
    "n_in = 0\n",
    "for i in range(n):\n",
    "    x = random()*2-1\n",
    "    y = random()*2-1\n",
    "    if np.sqrt(x**2+y**2)<1:\n",
    "        n_in = n_in + 1\n",
    "        \n",
    "print(\"Anteil innerhalb: \", n_in/n*100, \"%\")\n",
    "print(\"pi ist ca. : \", n_in/n*4)"
   ]
  },
  {
   "cell_type": "code",
   "execution_count": null,
   "metadata": {},
   "outputs": [],
   "source": []
  }
 ],
 "metadata": {
  "kernelspec": {
   "display_name": "Python 3",
   "language": "python",
   "name": "python3"
  },
  "language_info": {
   "codemirror_mode": {
    "name": "ipython",
    "version": 3
   },
   "file_extension": ".py",
   "mimetype": "text/x-python",
   "name": "python",
   "nbconvert_exporter": "python",
   "pygments_lexer": "ipython3",
   "version": "3.8.10"
  }
 },
 "nbformat": 4,
 "nbformat_minor": 5
}
